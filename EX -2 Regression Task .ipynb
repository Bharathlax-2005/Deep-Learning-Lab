{
 "cells": [
  {
   "cell_type": "code",
   "execution_count": 1,
   "id": "4e78f5e0",
   "metadata": {},
   "outputs": [],
   "source": [
    "import pandas as pd\n",
    "import numpy as np\n",
    "from sklearn.model_selection import train_test_split\n",
    "from sklearn.preprocessing import StandardScaler\n",
    "from sklearn.metrics import mean_absolute_error\n",
    "import tensorflow as tf\n",
    "from tensorflow.keras import Sequential\n",
    "from tensorflow.keras.layers import Dense, Dropout"
   ]
  },
  {
   "cell_type": "code",
   "execution_count": 4,
   "id": "bb16797a",
   "metadata": {},
   "outputs": [
    {
     "name": "stdout",
     "output_type": "stream",
     "text": [
      "Epoch 1/20\n",
      "92/92 [==============================] - 1s 4ms/step - loss: 448295043072.0000 - mean_absolute_error: 546851.0625 - val_loss: 401489297408.0000 - val_mean_absolute_error: 536791.7500\n",
      "Epoch 2/20\n",
      "92/92 [==============================] - 0s 3ms/step - loss: 448200900608.0000 - mean_absolute_error: 546779.6250 - val_loss: 401304846336.0000 - val_mean_absolute_error: 536638.5625\n",
      "Epoch 3/20\n",
      "92/92 [==============================] - 0s 3ms/step - loss: 447822725120.0000 - mean_absolute_error: 546485.8125 - val_loss: 400743923712.0000 - val_mean_absolute_error: 536173.5625\n",
      "Epoch 4/20\n",
      "92/92 [==============================] - 0s 4ms/step - loss: 446890606592.0000 - mean_absolute_error: 545779.8125 - val_loss: 399546449920.0000 - val_mean_absolute_error: 535190.2500\n",
      "Epoch 5/20\n",
      "92/92 [==============================] - 0s 4ms/step - loss: 445102325760.0000 - mean_absolute_error: 544457.8125 - val_loss: 397501956096.0000 - val_mean_absolute_error: 533512.7500\n",
      "Epoch 6/20\n",
      "92/92 [==============================] - 0s 4ms/step - loss: 442363674624.0000 - mean_absolute_error: 542388.9375 - val_loss: 394481958912.0000 - val_mean_absolute_error: 531023.7500\n",
      "Epoch 7/20\n",
      "92/92 [==============================] - 0s 4ms/step - loss: 438492266496.0000 - mean_absolute_error: 539457.9375 - val_loss: 390409060352.0000 - val_mean_absolute_error: 527638.6875\n",
      "Epoch 8/20\n",
      "92/92 [==============================] - 0s 4ms/step - loss: 433300144128.0000 - mean_absolute_error: 535569.6875 - val_loss: 385092550656.0000 - val_mean_absolute_error: 523186.7812\n",
      "Epoch 9/20\n",
      "92/92 [==============================] - 0s 3ms/step - loss: 426787766272.0000 - mean_absolute_error: 530527.0625 - val_loss: 378378846208.0000 - val_mean_absolute_error: 517518.5938\n",
      "Epoch 10/20\n",
      "92/92 [==============================] - 0s 4ms/step - loss: 418810920960.0000 - mean_absolute_error: 524276.6562 - val_loss: 370412191744.0000 - val_mean_absolute_error: 510692.0312\n",
      "Epoch 11/20\n",
      "92/92 [==============================] - 0s 4ms/step - loss: 408806260736.0000 - mean_absolute_error: 516593.1875 - val_loss: 360922251264.0000 - val_mean_absolute_error: 502448.5938\n",
      "Epoch 12/20\n",
      "92/92 [==============================] - 0s 4ms/step - loss: 397817872384.0000 - mean_absolute_error: 507641.9062 - val_loss: 350159175680.0000 - val_mean_absolute_error: 492906.6562\n",
      "Epoch 13/20\n",
      "92/92 [==============================] - 0s 4ms/step - loss: 385402109952.0000 - mean_absolute_error: 497583.4688 - val_loss: 338182012928.0000 - val_mean_absolute_error: 482036.2188\n",
      "Epoch 14/20\n",
      "92/92 [==============================] - 0s 4ms/step - loss: 371287851008.0000 - mean_absolute_error: 485899.6875 - val_loss: 325235736576.0000 - val_mean_absolute_error: 469950.4062\n",
      "Epoch 15/20\n",
      "92/92 [==============================] - 0s 4ms/step - loss: 356906926080.0000 - mean_absolute_error: 472979.9062 - val_loss: 311187898368.0000 - val_mean_absolute_error: 456474.5312\n",
      "Epoch 16/20\n",
      "92/92 [==============================] - 0s 4ms/step - loss: 341322104832.0000 - mean_absolute_error: 459660.0000 - val_loss: 296480997376.0000 - val_mean_absolute_error: 441853.3438\n",
      "Epoch 17/20\n",
      "92/92 [==============================] - 0s 4ms/step - loss: 324000972800.0000 - mean_absolute_error: 444156.0938 - val_loss: 281093931008.0000 - val_mean_absolute_error: 426189.1250\n",
      "Epoch 18/20\n",
      "92/92 [==============================] - 0s 4ms/step - loss: 308562034688.0000 - mean_absolute_error: 428132.1250 - val_loss: 265258254336.0000 - val_mean_absolute_error: 409524.4375\n",
      "Epoch 19/20\n",
      "92/92 [==============================] - 0s 4ms/step - loss: 289753792512.0000 - mean_absolute_error: 410826.8750 - val_loss: 249438453760.0000 - val_mean_absolute_error: 392247.7500\n",
      "Epoch 20/20\n",
      "92/92 [==============================] - 0s 4ms/step - loss: 272085827584.0000 - mean_absolute_error: 392607.1250 - val_loss: 233568501760.0000 - val_mean_absolute_error: 374362.4688\n"
     ]
    }
   ],
   "source": [
    "# Step 1: Load the dataset\n",
    "url = \"https://dataset.karunya.edu/CSE/house_price.csv\"\n",
    "data = pd.read_csv(url)\n",
    "\n",
    "# Step 2: Inspect and preprocess the dataset\n",
    "# Replace 'Price' with the name of the target column\n",
    "X = data.drop(columns=['price'])  # Features\n",
    "y = data['price']  # Target\n",
    "\n",
    "# Handle missing values (if any)\n",
    "if data.isnull().sum().sum() > 0:\n",
    "    data.fillna(data.median(), inplace=True)\n",
    "\n",
    "# Split into training and testing sets\n",
    "X_train, X_test, y_train, y_test = train_test_split(X, y, test_size=0.2, random_state=42)\n",
    "\n",
    "# Normalize features\n",
    "scaler = StandardScaler()\n",
    "X_train = scaler.fit_transform(X_train)\n",
    "X_test = scaler.transform(X_test)\n",
    "\n",
    "# Step 3: Build the neural network model\n",
    "model = Sequential([\n",
    "    Dense(128, activation='relu', input_shape=(X_train.shape[1],)),\n",
    "    Dropout(0.2),\n",
    "    Dense(64, activation='relu'),\n",
    "    Dropout(0.2),\n",
    "    Dense(1)  # Output layer for regression\n",
    "])\n",
    "\n",
    "# Compile the model\n",
    "model.compile(optimizer='adam',\n",
    "              loss='mean_squared_error',\n",
    "              metrics=['mean_absolute_error'])\n",
    "\n",
    "# Step 4: Train the model\n",
    "history = model.fit(X_train, y_train, epochs=20, batch_size=32, validation_split=0.2)\n",
    "\n"
   ]
  },
  {
   "cell_type": "code",
   "execution_count": 5,
   "id": "d7a31a0e",
   "metadata": {},
   "outputs": [
    {
     "name": "stdout",
     "output_type": "stream",
     "text": [
      "29/29 [==============================] - 0s 875us/step - loss: 1169180459008.0000 - mean_absolute_error: 414906.7500\n",
      "Test Mean Squared Error: 1169180459008.0000\n",
      "Test Mean Absolute Error: 414906.7500\n"
     ]
    }
   ],
   "source": [
    "# Step 5: Evaluate the model\n",
    "test_loss, test_mae = model.evaluate(X_test, y_test)\n",
    "print(f\"Test Mean Squared Error: {test_loss:.4f}\")\n",
    "print(f\"Test Mean Absolute Error: {test_mae:.4f}\")"
   ]
  },
  {
   "cell_type": "code",
   "execution_count": null,
   "id": "d8b085ac",
   "metadata": {},
   "outputs": [],
   "source": []
  }
 ],
 "metadata": {
  "kernelspec": {
   "display_name": "Python 3 (ipykernel)",
   "language": "python",
   "name": "python3"
  },
  "language_info": {
   "codemirror_mode": {
    "name": "ipython",
    "version": 3
   },
   "file_extension": ".py",
   "mimetype": "text/x-python",
   "name": "python",
   "nbconvert_exporter": "python",
   "pygments_lexer": "ipython3",
   "version": "3.10.9"
  }
 },
 "nbformat": 4,
 "nbformat_minor": 5
}
