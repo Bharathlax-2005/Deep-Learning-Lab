{
 "cells": [
  {
   "cell_type": "code",
   "execution_count": 1,
   "id": "cf19003f",
   "metadata": {},
   "outputs": [],
   "source": [
    "import tensorflow as tf\n",
    "from tensorflow.keras import Sequential\n",
    "from tensorflow.keras.layers import Conv2D, MaxPooling2D, Flatten, Dense, Dropout\n",
    "from tensorflow.keras.datasets import cifar10\n",
    "from tensorflow.keras.utils import to_categorical\n",
    "import matplotlib.pyplot as plt"
   ]
  },
  {
   "cell_type": "code",
   "execution_count": 2,
   "id": "af1b9852",
   "metadata": {},
   "outputs": [
    {
     "name": "stdout",
     "output_type": "stream",
     "text": [
      "Epoch 1/20\n",
      "625/625 [==============================] - 11s 16ms/step - loss: 1.7210 - accuracy: 0.3656 - val_loss: 1.4177 - val_accuracy: 0.4848\n",
      "Epoch 2/20\n",
      "625/625 [==============================] - 10s 15ms/step - loss: 1.3928 - accuracy: 0.5002 - val_loss: 1.2381 - val_accuracy: 0.5596\n",
      "Epoch 3/20\n",
      "625/625 [==============================] - 9s 15ms/step - loss: 1.2442 - accuracy: 0.5554 - val_loss: 1.1184 - val_accuracy: 0.6031\n",
      "Epoch 4/20\n",
      "625/625 [==============================] - 9s 15ms/step - loss: 1.1281 - accuracy: 0.6037 - val_loss: 1.0049 - val_accuracy: 0.6449\n",
      "Epoch 5/20\n",
      "625/625 [==============================] - 9s 15ms/step - loss: 1.0411 - accuracy: 0.6339 - val_loss: 0.9579 - val_accuracy: 0.6667\n",
      "Epoch 6/20\n",
      "625/625 [==============================] - 10s 16ms/step - loss: 0.9617 - accuracy: 0.6627 - val_loss: 0.9394 - val_accuracy: 0.6755\n",
      "Epoch 7/20\n",
      "625/625 [==============================] - 10s 16ms/step - loss: 0.8942 - accuracy: 0.6861 - val_loss: 0.9820 - val_accuracy: 0.6651\n",
      "Epoch 8/20\n",
      "625/625 [==============================] - 10s 16ms/step - loss: 0.8507 - accuracy: 0.7029 - val_loss: 0.8480 - val_accuracy: 0.7031\n",
      "Epoch 9/20\n",
      "625/625 [==============================] - 10s 16ms/step - loss: 0.7888 - accuracy: 0.7230 - val_loss: 0.8227 - val_accuracy: 0.7158\n",
      "Epoch 10/20\n",
      "625/625 [==============================] - 10s 17ms/step - loss: 0.7521 - accuracy: 0.7376 - val_loss: 0.8446 - val_accuracy: 0.7131\n",
      "Epoch 11/20\n",
      "625/625 [==============================] - 11s 17ms/step - loss: 0.7082 - accuracy: 0.7504 - val_loss: 0.8541 - val_accuracy: 0.7116\n",
      "Epoch 12/20\n",
      "625/625 [==============================] - 10s 17ms/step - loss: 0.6772 - accuracy: 0.7610 - val_loss: 0.8172 - val_accuracy: 0.7230\n",
      "Epoch 13/20\n",
      "625/625 [==============================] - 10s 17ms/step - loss: 0.6384 - accuracy: 0.7742 - val_loss: 0.8553 - val_accuracy: 0.7188\n",
      "Epoch 14/20\n",
      "625/625 [==============================] - 10s 17ms/step - loss: 0.6009 - accuracy: 0.7887 - val_loss: 0.8593 - val_accuracy: 0.7179\n",
      "Epoch 15/20\n",
      "625/625 [==============================] - 12s 19ms/step - loss: 0.5797 - accuracy: 0.7925 - val_loss: 0.8655 - val_accuracy: 0.7204\n",
      "Epoch 16/20\n",
      "625/625 [==============================] - 12s 19ms/step - loss: 0.5485 - accuracy: 0.8025 - val_loss: 0.8743 - val_accuracy: 0.7234\n",
      "Epoch 17/20\n",
      "625/625 [==============================] - 11s 18ms/step - loss: 0.5257 - accuracy: 0.8133 - val_loss: 0.8792 - val_accuracy: 0.7210\n",
      "Epoch 18/20\n",
      "625/625 [==============================] - 11s 18ms/step - loss: 0.4972 - accuracy: 0.8234 - val_loss: 0.9088 - val_accuracy: 0.7235\n",
      "Epoch 19/20\n",
      "625/625 [==============================] - 11s 17ms/step - loss: 0.4724 - accuracy: 0.8287 - val_loss: 0.9363 - val_accuracy: 0.7264\n",
      "Epoch 20/20\n",
      "625/625 [==============================] - 11s 17ms/step - loss: 0.4588 - accuracy: 0.8340 - val_loss: 0.9358 - val_accuracy: 0.7231\n"
     ]
    }
   ],
   "source": [
    "# Step 1: Load the CIFAR-10 dataset\n",
    "(X_train, y_train), (X_test, y_test) = cifar10.load_data()\n",
    "\n",
    "# Step 2: Preprocess the data\n",
    "X_train, X_test = X_train / 255.0, X_test / 255.0  # Normalize to [0, 1]\n",
    "y_train, y_test = to_categorical(y_train), to_categorical(y_test)  # One-hot encode labels\n",
    "\n",
    "# Step 3: Build the CNN model\n",
    "model = Sequential([\n",
    "    Conv2D(32, (3, 3), activation='relu', input_shape=(32, 32, 3)),\n",
    "    MaxPooling2D((2, 2)),\n",
    "    Conv2D(64, (3, 3), activation='relu'),\n",
    "    MaxPooling2D((2, 2)),\n",
    "    Conv2D(128, (3, 3), activation='relu'),\n",
    "    Flatten(),\n",
    "    Dense(128, activation='relu'),\n",
    "    Dropout(0.5),\n",
    "    Dense(10, activation='softmax')  # Output layer for 10 classes\n",
    "])\n",
    "\n",
    "# Step 4: Compile the model\n",
    "model.compile(optimizer='adam',\n",
    "              loss='categorical_crossentropy',\n",
    "              metrics=['accuracy'])\n",
    "\n",
    "# Step 5: Train the model\n",
    "history = model.fit(X_train, y_train, epochs=20, batch_size=64, validation_split=0.2)\n",
    "\n",
    "\n"
   ]
  },
  {
   "cell_type": "code",
   "execution_count": 3,
   "id": "feb8cc8d",
   "metadata": {},
   "outputs": [
    {
     "name": "stdout",
     "output_type": "stream",
     "text": [
      "313/313 - 1s - loss: 0.9457 - accuracy: 0.7131 - 1s/epoch - 4ms/step\n",
      "Test Loss: 0.9457, Test Accuracy: 0.7131\n"
     ]
    }
   ],
   "source": [
    "# Step 6: Evaluate the model\n",
    "test_loss, test_accuracy = model.evaluate(X_test, y_test, verbose=2)\n",
    "print(f\"Test Loss: {test_loss:.4f}, Test Accuracy: {test_accuracy:.4f}\")\n"
   ]
  },
  {
   "cell_type": "code",
   "execution_count": null,
   "id": "89c7806d",
   "metadata": {},
   "outputs": [],
   "source": [
    "# Step 7: Plot training history\n",
    "plt.figure(figsize=(12, 4))\n",
    "\n",
    "# Plot training & validation loss\n",
    "plt.subplot(1, 2, 1)\n",
    "plt.plot(history.history['loss'], label='Train Loss')\n",
    "plt.plot(history.history['val_loss'], label='Validation Loss')\n",
    "plt.title('Model Loss')\n",
    "plt.xlabel('Epoch')\n",
    "plt.ylabel('Loss')\n",
    "plt.legend()\n",
    "\n",
    "# Plot training & validation accuracy\n",
    "plt.subplot(1, 2, 2)\n",
    "plt.plot(history.history['accuracy'], label='Train Accuracy')\n",
    "plt.plot(history.history['val_accuracy'], label='Validation Accuracy')\n",
    "plt.title('Model Accuracy')\n",
    "plt.xlabel('Epoch')\n",
    "plt.ylabel('Accuracy')\n",
    "plt.legend()\n",
    "\n",
    "plt.tight_layout()\n",
    "plt.show()\n"
   ]
  },
  {
   "cell_type": "code",
   "execution_count": null,
   "id": "0eb06c16",
   "metadata": {},
   "outputs": [],
   "source": []
  }
 ],
 "metadata": {
  "kernelspec": {
   "display_name": "Python 3 (ipykernel)",
   "language": "python",
   "name": "python3"
  },
  "language_info": {
   "codemirror_mode": {
    "name": "ipython",
    "version": 3
   },
   "file_extension": ".py",
   "mimetype": "text/x-python",
   "name": "python",
   "nbconvert_exporter": "python",
   "pygments_lexer": "ipython3",
   "version": "3.10.9"
  }
 },
 "nbformat": 4,
 "nbformat_minor": 5
}
