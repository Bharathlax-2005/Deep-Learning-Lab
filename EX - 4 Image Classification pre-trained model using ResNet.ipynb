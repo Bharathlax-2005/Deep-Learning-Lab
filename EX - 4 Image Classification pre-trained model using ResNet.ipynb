{
 "cells": [
  {
   "cell_type": "code",
   "execution_count": 1,
   "id": "53cb48be",
   "metadata": {},
   "outputs": [],
   "source": [
    "import tensorflow as tf\n",
    "from tensorflow.keras.applications import VGG16\n",
    "from tensorflow.keras.models import Model\n",
    "from tensorflow.keras.layers import Dense, Flatten, Dropout, Input\n",
    "from tensorflow.keras.datasets import cifar10\n",
    "from tensorflow.keras.utils import to_categorical\n",
    "import matplotlib.pyplot as plt"
   ]
  },
  {
   "cell_type": "code",
   "execution_count": 4,
   "id": "7a8c6a7d",
   "metadata": {},
   "outputs": [
    {
     "name": "stdout",
     "output_type": "stream",
     "text": [
      "Epoch 1/10\n",
      "1250/1250 [==============================] - 126s 101ms/step - loss: 1.5288 - accuracy: 0.4624 - val_loss: 1.2814 - val_accuracy: 0.5532\n",
      "Epoch 2/10\n",
      "1250/1250 [==============================] - 142s 114ms/step - loss: 1.3221 - accuracy: 0.5363 - val_loss: 1.2233 - val_accuracy: 0.5730\n",
      "Epoch 3/10\n",
      "1250/1250 [==============================] - 144s 115ms/step - loss: 1.2616 - accuracy: 0.5568 - val_loss: 1.1916 - val_accuracy: 0.5840\n",
      "Epoch 4/10\n",
      "1250/1250 [==============================] - 138s 110ms/step - loss: 1.2294 - accuracy: 0.5689 - val_loss: 1.1773 - val_accuracy: 0.5885\n",
      "Epoch 5/10\n",
      "1250/1250 [==============================] - 143s 114ms/step - loss: 1.1995 - accuracy: 0.5786 - val_loss: 1.1674 - val_accuracy: 0.5909\n",
      "Epoch 6/10\n",
      "1250/1250 [==============================] - 140s 112ms/step - loss: 1.1777 - accuracy: 0.5872 - val_loss: 1.1439 - val_accuracy: 0.5975\n",
      "Epoch 7/10\n",
      "1250/1250 [==============================] - 143s 114ms/step - loss: 1.1657 - accuracy: 0.5915 - val_loss: 1.1414 - val_accuracy: 0.6049\n",
      "Epoch 8/10\n",
      "1250/1250 [==============================] - 148s 118ms/step - loss: 1.1468 - accuracy: 0.5957 - val_loss: 1.1308 - val_accuracy: 0.6045\n",
      "Epoch 9/10\n",
      "1250/1250 [==============================] - 147s 118ms/step - loss: 1.1290 - accuracy: 0.6061 - val_loss: 1.1300 - val_accuracy: 0.6056\n",
      "Epoch 10/10\n",
      "1250/1250 [==============================] - 162s 130ms/step - loss: 1.1175 - accuracy: 0.6108 - val_loss: 1.1274 - val_accuracy: 0.6061\n"
     ]
    }
   ],
   "source": [
    "# Step 1: Load and preprocess the CIFAR-10 dataset\n",
    "(X_train, y_train), (X_test, y_test) = cifar10.load_data()\n",
    "\n",
    "# Normalize images to the range [0, 1]\n",
    "X_train, X_test = X_train / 255.0, X_test / 255.0\n",
    "\n",
    "# One-hot encode labels\n",
    "y_train = to_categorical(y_train, 10)\n",
    "y_test = to_categorical(y_test, 10)\n",
    "\n",
    "\n",
    "# Step 2: Load the VGG16 base model\n",
    "base_model = VGG16(weights='imagenet', include_top=False, input_tensor=Input(shape=(32, 32, 3)))\n",
    "\n",
    "# Freeze the base model layers\n",
    "base_model.trainable = False\n",
    "\n",
    "# Step 3: Add custom layers on top of the base model\n",
    "x = base_model.output\n",
    "x = Flatten()(x)\n",
    "x = Dense(256, activation='relu')(x)\n",
    "x = Dropout(0.5)(x)\n",
    "output = Dense(10, activation='softmax')(x)  # Output layer for 10 classes\n",
    "\n",
    "# Define the full model\n",
    "model = Model(inputs=base_model.input, outputs=output)\n",
    "\n",
    "# Step 4: Compile the model\n",
    "model.compile(optimizer='adam',\n",
    "              loss='categorical_crossentropy',\n",
    "              metrics=['accuracy'])\n",
    "\n",
    "# Step 5: Train the model\n",
    "history = model.fit(X_train, y_train, epochs=10, batch_size=32, validation_split=0.2)\n"
   ]
  },
  {
   "cell_type": "code",
   "execution_count": 7,
   "id": "4614b0c1",
   "metadata": {},
   "outputs": [
    {
     "name": "stdout",
     "output_type": "stream",
     "text": [
      "313/313 - 24s - loss: 1.1369 - accuracy: 0.6015 - 24s/epoch - 78ms/step\n",
      "Test Loss: 1.1369, Test Accuracy: 0.6015\n"
     ]
    }
   ],
   "source": [
    "# Step 6: Evaluate the model\n",
    "test_loss, test_accuracy = model.evaluate(X_test, y_test, verbose=2)\n",
    "print(f\"Test Loss: {test_loss:.4f}, Test Accuracy: {test_accuracy:.4f}\")"
   ]
  },
  {
   "cell_type": "code",
   "execution_count": null,
   "id": "2cc11897",
   "metadata": {},
   "outputs": [],
   "source": [
    "# Step 7: Plot training history\n",
    "plt.figure(figsize=(12, 4))\n",
    "\n",
    "# Plot training & validation loss\n",
    "plt.subplot(1, 2, 1)\n",
    "plt.plot(history.history['loss'], label='Train Loss')\n",
    "plt.plot(history.history['val_loss'], label='Validation Loss')\n",
    "plt.title('Model Loss')\n",
    "plt.xlabel('Epoch')\n",
    "plt.ylabel('Loss')\n",
    "plt.legend()\n",
    "\n",
    "# Plot training & validation accuracy\n",
    "plt.subplot(1, 2, 2)\n",
    "plt.plot(history.history['accuracy'], label='Train Accuracy')\n",
    "plt.plot(history.history['val_accuracy'], label='Validation Accuracy')\n",
    "plt.title('Model Accuracy')\n",
    "plt.xlabel('Epoch')\n",
    "plt.ylabel('Accuracy')\n",
    "plt.legend()\n",
    "\n",
    "plt.tight_layout()\n",
    "plt.show()"
   ]
  },
  {
   "cell_type": "code",
   "execution_count": null,
   "id": "9ae2728e",
   "metadata": {},
   "outputs": [],
   "source": []
  }
 ],
 "metadata": {
  "kernelspec": {
   "display_name": "Python 3 (ipykernel)",
   "language": "python",
   "name": "python3"
  },
  "language_info": {
   "codemirror_mode": {
    "name": "ipython",
    "version": 3
   },
   "file_extension": ".py",
   "mimetype": "text/x-python",
   "name": "python",
   "nbconvert_exporter": "python",
   "pygments_lexer": "ipython3",
   "version": "3.10.9"
  }
 },
 "nbformat": 4,
 "nbformat_minor": 5
}
